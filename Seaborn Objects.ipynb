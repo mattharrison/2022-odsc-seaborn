{
 "cells": [
  {
   "cell_type": "markdown",
   "metadata": {},
   "source": [
    "# Seaborn Intro"
   ]
  },
  {
   "cell_type": "code",
   "execution_count": null,
   "metadata": {},
   "outputs": [],
   "source": [
    "import re\n",
    "\n",
    "import pandas as pd\n",
    "import seaborn as sns\n",
    "import seaborn.objects as so"
   ]
  },
  {
   "cell_type": "code",
   "execution_count": null,
   "metadata": {
    "scrolled": true
   },
   "outputs": [],
   "source": [
    "!pip install -U seaborn"
   ]
  },
  {
   "cell_type": "code",
   "execution_count": null,
   "metadata": {},
   "outputs": [],
   "source": [
    "sns.__version__"
   ]
  },
  {
   "cell_type": "code",
   "execution_count": null,
   "metadata": {},
   "outputs": [],
   "source": []
  },
  {
   "cell_type": "markdown",
   "metadata": {},
   "source": [
    "## Getting the Data"
   ]
  },
  {
   "cell_type": "code",
   "execution_count": null,
   "metadata": {
    "scrolled": true
   },
   "outputs": [],
   "source": [
    "df = pd.read_csv('https://github.com/mattharrison/datasets/raw/master/data/vehicles.csv.zip')\n",
    "df"
   ]
  },
  {
   "cell_type": "code",
   "execution_count": null,
   "metadata": {},
   "outputs": [],
   "source": [
    "def to_camelcase(val):\n",
    "    return re.sub(r'([A-Z])', r'_\\1', val).lower().lstrip('_')\n",
    "\n",
    "def tweak_autos(autos):\n",
    "    cols = ['barrels08', 'city08', 'comb08', 'highway08', 'cylinders', 'displ', 'drive', 'eng_dscr', \n",
    "        'fuelCost08', 'make', 'model', 'trany', 'range', 'createdOn', 'year', 'VClass']\n",
    "    return (autos\n",
    "     [cols]\n",
    "     .assign(cylinders=autos.cylinders.fillna(0).astype('int8'),\n",
    "             displ=autos.displ.fillna(0).astype('float16'),\n",
    "             drive=autos.drive.fillna('Other').astype('category'),\n",
    "             automatic=autos.trany.str.contains('Auto'),\n",
    "             speeds=autos.trany.str.extract(r'(\\d)+').fillna('20').astype('int8'),\n",
    "             createdOn=pd.to_datetime(autos.createdOn.replace({' EDT': '-04:00',\n",
    "                ' EST': '-05:00'}, regex=True), utc=True).dt.tz_convert('America/New_York'),\n",
    "             ffs=autos.eng_dscr.str.contains('FFS')\n",
    "            )\n",
    "     .astype({'highway08': 'int8', 'city08': 'int16', 'comb08': 'int16', 'fuelCost08': 'int16',\n",
    "              'range': 'int16',  'year': 'int16', 'make': 'category', 'VClass': 'category'})\n",
    "     .drop(columns=['trany', 'eng_dscr'])\n",
    "    )\n",
    "\n",
    "autos = tweak_autos(df)"
   ]
  },
  {
   "cell_type": "code",
   "execution_count": null,
   "metadata": {
    "scrolled": true
   },
   "outputs": [],
   "source": [
    "autos"
   ]
  },
  {
   "cell_type": "code",
   "execution_count": null,
   "metadata": {},
   "outputs": [],
   "source": []
  },
  {
   "cell_type": "markdown",
   "metadata": {},
   "source": [
    "## Create an Object for Help"
   ]
  },
  {
   "cell_type": "code",
   "execution_count": null,
   "metadata": {},
   "outputs": [],
   "source": [
    "p = so.Plot()"
   ]
  },
  {
   "cell_type": "code",
   "execution_count": null,
   "metadata": {},
   "outputs": [],
   "source": [
    "p."
   ]
  },
  {
   "cell_type": "code",
   "execution_count": null,
   "metadata": {
    "scrolled": true
   },
   "outputs": [],
   "source": [
    "print(dir(p))"
   ]
  },
  {
   "cell_type": "code",
   "execution_count": null,
   "metadata": {},
   "outputs": [],
   "source": [
    "p.add?"
   ]
  },
  {
   "cell_type": "code",
   "execution_count": null,
   "metadata": {},
   "outputs": [],
   "source": [
    "so.Bar?"
   ]
  },
  {
   "cell_type": "code",
   "execution_count": null,
   "metadata": {},
   "outputs": [],
   "source": [
    "so.Bars?"
   ]
  },
  {
   "cell_type": "code",
   "execution_count": null,
   "metadata": {
    "scrolled": true
   },
   "outputs": [],
   "source": [
    "print(dir(so))"
   ]
  },
  {
   "cell_type": "code",
   "execution_count": null,
   "metadata": {},
   "outputs": [],
   "source": []
  },
  {
   "cell_type": "markdown",
   "metadata": {},
   "source": [
    "## Catgoricals"
   ]
  },
  {
   "cell_type": "code",
   "execution_count": null,
   "metadata": {
    "scrolled": true
   },
   "outputs": [],
   "source": [
    "autos.dtypes"
   ]
  },
  {
   "cell_type": "code",
   "execution_count": null,
   "metadata": {
    "scrolled": true
   },
   "outputs": [],
   "source": [
    "autos.VClass.value_counts()"
   ]
  },
  {
   "cell_type": "code",
   "execution_count": null,
   "metadata": {},
   "outputs": [],
   "source": [
    "(so\n",
    " .Plot(autos, x=\"VClass\")\n",
    " .add(so.Bar(), so.Hist())\n",
    ")"
   ]
  },
  {
   "cell_type": "code",
   "execution_count": null,
   "metadata": {},
   "outputs": [],
   "source": [
    "(so\n",
    " .Plot(autos, y=\"VClass\")\n",
    " .add(so.Bar(), so.Hist())\n",
    ")"
   ]
  },
  {
   "cell_type": "code",
   "execution_count": null,
   "metadata": {},
   "outputs": [],
   "source": [
    "p.add?"
   ]
  },
  {
   "cell_type": "code",
   "execution_count": null,
   "metadata": {
    "scrolled": true
   },
   "outputs": [],
   "source": [
    "def limit_top_n(df, col, n=10, default='Other'):\n",
    "    is_cat = isinstance(df[col].dtype, pd.CategoricalDtype)\n",
    "    top_n = df[col].value_counts().index[:n]\n",
    "    ser = df[col]\n",
    "    if is_cat:\n",
    "        ser = ser.cat.add_categories([default])\n",
    "    res = (ser\n",
    "           .where(ser.isin(top_n), default)\n",
    "           )\n",
    "    if is_cat:\n",
    "        res = res.cat.remove_unused_categories()\n",
    "    return res\n",
    "limit_top_n(autos, 'VClass')"
   ]
  },
  {
   "cell_type": "code",
   "execution_count": null,
   "metadata": {
    "scrolled": true
   },
   "outputs": [],
   "source": [
    "(so\n",
    " .Plot(autos.assign(VClass=limit_top_n(autos, 'VClass')), y=\"VClass\")\n",
    " .add(so.Bar(), so.Hist())\n",
    ")"
   ]
  },
  {
   "cell_type": "code",
   "execution_count": null,
   "metadata": {
    "scrolled": true
   },
   "outputs": [],
   "source": [
    "# facet\n",
    "(so\n",
    " .Plot(autos.assign(VClass=limit_top_n(autos, 'VClass')), y=\"VClass\")\n",
    " .facet('year', wrap=5)#, order=[1990, 2000, 2010])\n",
    " .add(so.Bar(), so.Hist(), orient='y')\n",
    ")"
   ]
  },
  {
   "cell_type": "code",
   "execution_count": null,
   "metadata": {
    "scrolled": false
   },
   "outputs": [],
   "source": [
    "# facet limit\n",
    "(so\n",
    " .Plot(autos.assign(VClass=limit_top_n(autos, 'VClass')), y=\"VClass\")\n",
    " .facet('year', wrap=2, order=[1990, 2000, 2010, 2015])\n",
    " .add(so.Bar(), so.Hist(), orient='y')\n",
    ")"
   ]
  },
  {
   "cell_type": "markdown",
   "metadata": {},
   "source": [
    "## Categorical Exercise\n",
    "* Create a categorical plot from the data"
   ]
  },
  {
   "cell_type": "code",
   "execution_count": null,
   "metadata": {},
   "outputs": [],
   "source": []
  },
  {
   "cell_type": "markdown",
   "metadata": {},
   "source": [
    "## Continuous Variable"
   ]
  },
  {
   "cell_type": "code",
   "execution_count": null,
   "metadata": {
    "scrolled": false
   },
   "outputs": [],
   "source": [
    "(so\n",
    " .Plot(autos, x='city08')\n",
    " .add(so.Line(), so.Hist())\n",
    ")"
   ]
  },
  {
   "cell_type": "code",
   "execution_count": null,
   "metadata": {
    "scrolled": false
   },
   "outputs": [],
   "source": [
    "(so\n",
    " .Plot(autos, x='city08')\n",
    " .add(so.Bars(), so.Hist())\n",
    ")"
   ]
  },
  {
   "cell_type": "code",
   "execution_count": null,
   "metadata": {
    "scrolled": false
   },
   "outputs": [],
   "source": [
    "(so\n",
    " .Plot(autos, x='city08')\n",
    " .add(so.Bars(), so.Hist())\n",
    " .limit(x=[0,40])\n",
    ")"
   ]
  },
  {
   "cell_type": "code",
   "execution_count": null,
   "metadata": {
    "scrolled": false
   },
   "outputs": [],
   "source": [
    "# change bins (doesn't take limit into account)\n",
    "(so\n",
    " .Plot(autos, x='city08')\n",
    " .add(so.Bars(), so.Hist(bins=40))\n",
    " .limit(x=[0,40])\n",
    ")"
   ]
  },
  {
   "cell_type": "code",
   "execution_count": null,
   "metadata": {
    "scrolled": true
   },
   "outputs": [],
   "source": [
    "# Facetting\n",
    "(so\n",
    " .Plot(autos, x='city08')\n",
    " .facet(col='year', order=[1985, 1990, 1995, 2000, 2005, 2010, 2015], wrap=4)\n",
    " .add(so.Bars(), so.Hist(bins=40))\n",
    " .limit(x=[0,40]) \n",
    ")"
   ]
  },
  {
   "cell_type": "code",
   "execution_count": null,
   "metadata": {
    "scrolled": false
   },
   "outputs": [],
   "source": [
    "# color by year\n",
    "(so\n",
    " .Plot(autos, x='city08', color='year')\n",
    " .add(so.Bars(), so.Hist(bins=40))\n",
    " .limit(x=[0,40]) \n",
    ")"
   ]
  },
  {
   "cell_type": "code",
   "execution_count": null,
   "metadata": {
    "scrolled": true
   },
   "outputs": [],
   "source": [
    "# Try out a line plot\n",
    "(so\n",
    " .Plot(autos, x='city08', color='year')\n",
    " .add(so.Lines(), so.Hist(bins=100))\n",
    " .limit(x=[0,40]) \n",
    ")"
   ]
  },
  {
   "cell_type": "markdown",
   "metadata": {},
   "source": [
    "## Continuous Exercise\n",
    "* Choose a numeric column to visualize"
   ]
  },
  {
   "cell_type": "code",
   "execution_count": null,
   "metadata": {},
   "outputs": [],
   "source": []
  },
  {
   "cell_type": "markdown",
   "metadata": {},
   "source": [
    "## Continuous - Continuous"
   ]
  },
  {
   "cell_type": "code",
   "execution_count": null,
   "metadata": {
    "scrolled": true
   },
   "outputs": [],
   "source": [
    "(so\n",
    " .Plot(autos, x='displ', y='comb08')\n",
    " .add(so.Dots())\n",
    ")"
   ]
  },
  {
   "cell_type": "code",
   "execution_count": null,
   "metadata": {},
   "outputs": [],
   "source": [
    "(so\n",
    " .Plot(autos, x='displ', y='comb08')\n",
    " .add(so.Dots())\n",
    " .scale(y='log')\n",
    ")"
   ]
  },
  {
   "cell_type": "code",
   "execution_count": null,
   "metadata": {},
   "outputs": [],
   "source": [
    "(so\n",
    " .Plot(autos, x='displ', y='comb08')\n",
    " .add(so.Dots(alpha=.01))\n",
    ")"
   ]
  },
  {
   "cell_type": "code",
   "execution_count": null,
   "metadata": {},
   "outputs": [],
   "source": [
    "(so\n",
    " .Plot(autos, x='displ', y='comb08')\n",
    " .add(so.Dots(alpha=.01))\n",
    " .add(so.Line(), so.PolyFit())\n",
    ")"
   ]
  },
  {
   "cell_type": "code",
   "execution_count": null,
   "metadata": {},
   "outputs": [],
   "source": [
    "(so\n",
    " .Plot(autos, x='displ', y='comb08')\n",
    " .add(so.Dots(alpha=.01))\n",
    " .add(so.Line(color='red'), so.PolyFit(order=1))\n",
    ")"
   ]
  },
  {
   "cell_type": "code",
   "execution_count": null,
   "metadata": {
    "scrolled": true
   },
   "outputs": [],
   "source": [
    "# color by cylinders\n",
    "(so\n",
    " .Plot(autos, x='displ', y='comb08', color='cylinders')\n",
    " .add(so.Dots(alpha=.01))\n",
    " .add(so.Line(), so.PolyFit())\n",
    ")"
   ]
  },
  {
   "cell_type": "code",
   "execution_count": null,
   "metadata": {
    "scrolled": true
   },
   "outputs": [],
   "source": [
    "# change colormap with `.scale`\n",
    "(so\n",
    " .Plot(autos, x='displ', y='comb08', color='cylinders')\n",
    " .add(so.Dots(alpha=.01))\n",
    " .add(so.Line(), so.PolyFit())\n",
    " .scale(color='viridis')\n",
    ")"
   ]
  },
  {
   "cell_type": "code",
   "execution_count": null,
   "metadata": {},
   "outputs": [],
   "source": [
    "autos.cylinders.corr(autos.comb08)"
   ]
  },
  {
   "cell_type": "code",
   "execution_count": null,
   "metadata": {},
   "outputs": [],
   "source": [
    "# side exploration to check out relationship between\n",
    "# disp and cylinders\n",
    "\n",
    "autos.cylinders.corr(autos.displ)"
   ]
  },
  {
   "cell_type": "code",
   "execution_count": null,
   "metadata": {},
   "outputs": [],
   "source": [
    "# side exploration to check out relationship between\n",
    "# disp and cylinders\n",
    "(so\n",
    " .Plot(autos, x='displ', y='cylinders')\n",
    " .add(so.Dots(alpha=.01))\n",
    " .add(so.Line(), so.PolyFit())\n",
    ")"
   ]
  },
  {
   "cell_type": "code",
   "execution_count": null,
   "metadata": {},
   "outputs": [],
   "source": [
    "# color by year\n",
    "(so\n",
    " .Plot(autos, x='displ', y='comb08', color='year')\n",
    " .add(so.Dots(alpha=.01))\n",
    " .add(so.Line(), so.PolyFit(order=1))\n",
    ")"
   ]
  },
  {
   "cell_type": "code",
   "execution_count": null,
   "metadata": {},
   "outputs": [],
   "source": [
    "# color by year but...\n",
    "# add line fit for everything (note color parameter for last add)\n",
    "(so\n",
    " .Plot(autos, x='displ', y='comb08', color='year')\n",
    " .add(so.Dots(alpha=.01))\n",
    " .add(so.Line(), so.PolyFit(order=1), color=None)\n",
    ")"
   ]
  },
  {
   "cell_type": "code",
   "execution_count": null,
   "metadata": {},
   "outputs": [],
   "source": [
    "(autos.make == 'Ford').value_counts()"
   ]
  },
  {
   "cell_type": "code",
   "execution_count": null,
   "metadata": {
    "scrolled": true
   },
   "outputs": [],
   "source": [
    "# compare Ford to everything else\n",
    "import numpy as np\n",
    "(so\n",
    " .Plot(autos.assign(ford=np.select([autos.make=='Ford'], ['Ford'], 'Other')),\n",
    "       x='displ', y='comb08', color='ford')\n",
    " .add(so.Dots(alpha=.01))\n",
    " .add(so.Line(), so.PolyFit(order=1))\n",
    ")"
   ]
  },
  {
   "cell_type": "code",
   "execution_count": null,
   "metadata": {
    "scrolled": false
   },
   "outputs": [],
   "source": [
    "# plot top makes in facet\n",
    "# first add plots everything in each cell (because of col=None)\n",
    "# second add plots the make in red\n",
    "(so\n",
    " .Plot(autos.assign(top_makes=limit_top_n(autos, 'make', n=5)),\n",
    "       x='displ', y='comb08')\n",
    " .facet('top_makes', wrap=3)\n",
    " .add(so.Dots(alpha=.01, pointsize=2), col=None)\n",
    " .add(so.Dots(color='red', alpha=.1, pointsize=3))\n",
    ")"
   ]
  },
  {
   "cell_type": "code",
   "execution_count": null,
   "metadata": {
    "scrolled": false
   },
   "outputs": [],
   "source": [
    "# make y log-scale\n",
    "(so\n",
    " .Plot(autos.assign(top_makes=limit_top_n(autos, 'make', n=5)),\n",
    "       x='displ', y='comb08')\n",
    " .facet('top_makes', wrap=3)\n",
    " .add(so.Dots(alpha=.01, pointsize=2), col=None)\n",
    " .add(so.Dots(color='red', alpha=.1, pointsize=3))\n",
    " .scale(y='log')\n",
    ")"
   ]
  },
  {
   "cell_type": "code",
   "execution_count": null,
   "metadata": {
    "scrolled": true
   },
   "outputs": [],
   "source": [
    "# make x and y log-scale\n",
    "# (note log of 0 disappers!)\n",
    "(so\n",
    " .Plot(autos.assign(top_makes=limit_top_n(autos, 'make', n=5)),\n",
    "       x='displ', y='comb08')\n",
    " .facet('top_makes', wrap=3)\n",
    " .add(so.Dots(alpha=.01, pointsize=2), col=None)\n",
    " .add(so.Dots(color='red', alpha=.1, pointsize=3))\n",
    " .scale(y='log', x='log')\n",
    ")"
   ]
  },
  {
   "cell_type": "code",
   "execution_count": null,
   "metadata": {
    "scrolled": true
   },
   "outputs": [],
   "source": [
    "# color by year\n",
    "\n",
    "(so\n",
    " .Plot(autos.assign(top_makes=limit_top_n(autos, 'make', n=5)),\n",
    "       x='displ', y='comb08', color='year')\n",
    " .facet('top_makes', wrap=3)\n",
    " .add(so.Dots(color='grey', \n",
    "              alpha=.01, pointsize=2), col=None)\n",
    " .add(so.Dots(#color='red',\n",
    "              alpha=.1, pointsize=3))\n",
    " .scale(y='log', x='log', color='viridis')\n",
    ")"
   ]
  },
  {
   "cell_type": "code",
   "execution_count": null,
   "metadata": {},
   "outputs": [],
   "source": [
    "p.pair?"
   ]
  },
  {
   "cell_type": "code",
   "execution_count": null,
   "metadata": {},
   "outputs": [],
   "source": [
    "# Use .pair to facet\n",
    "(so\n",
    " .Plot(autos.assign(top_makes=limit_top_n(autos, 'make', n=5)), \n",
    "       y='city08', color='top_makes')\n",
    " .pair(x=['cylinders', 'speeds', 'displ', 'barrels08'], wrap=2)\n",
    " .add(so.Dots(alpha=.3))\n",
    ")"
   ]
  },
  {
   "cell_type": "code",
   "execution_count": null,
   "metadata": {},
   "outputs": [],
   "source": [
    "# color by year\n",
    "(so\n",
    " .Plot(autos.assign(top_makes=limit_top_n(autos, 'make', n=5)), y='city08', color='year')\n",
    " .pair(x=['cylinders', 'speeds', 'displ', 'barrels08'], wrap=2)\n",
    " .add(so.Dots(alpha=.1))\n",
    ")"
   ]
  },
  {
   "cell_type": "markdown",
   "metadata": {},
   "source": [
    "## Cont/cont Exercise\n",
    "* Create a plot to compare two continuous variables"
   ]
  },
  {
   "cell_type": "code",
   "execution_count": null,
   "metadata": {},
   "outputs": [],
   "source": []
  },
  {
   "cell_type": "code",
   "execution_count": null,
   "metadata": {},
   "outputs": [],
   "source": []
  },
  {
   "cell_type": "markdown",
   "metadata": {},
   "source": [
    "## Time Data"
   ]
  },
  {
   "cell_type": "code",
   "execution_count": null,
   "metadata": {},
   "outputs": [],
   "source": [
    "(so\n",
    " .Plot(autos, x='year', y='highway08')\n",
    " .add(so.Line(), so.Agg())  # mean\n",
    ")"
   ]
  },
  {
   "cell_type": "code",
   "execution_count": null,
   "metadata": {},
   "outputs": [],
   "source": [
    "(so\n",
    " .Plot(autos.assign(top_makes=limit_top_n(autos, 'make', n=5)),\n",
    "       x='year', y='highway08', color='top_makes')\n",
    " .add(so.Line(), so.Agg())  # mean\n",
    ")"
   ]
  },
  {
   "cell_type": "code",
   "execution_count": null,
   "metadata": {},
   "outputs": [],
   "source": [
    "(so\n",
    " .Plot(autos, x='year', y='highway08')\n",
    " .add(so.Line(), so.Agg(func='max'))\n",
    ")"
   ]
  },
  {
   "cell_type": "code",
   "execution_count": null,
   "metadata": {},
   "outputs": [],
   "source": [
    "(so\n",
    " .Plot(autos, x='year', y='highway08')\n",
    " .add(so.Line(), so.Agg(func=lambda data: data.quantile(.8)))\n",
    ")"
   ]
  },
  {
   "cell_type": "code",
   "execution_count": null,
   "metadata": {},
   "outputs": [],
   "source": [
    "(so\n",
    " .Plot(autos.assign(top_makes=limit_top_n(autos, 'make', n=5)),\n",
    "       x='year', y='highway08')\n",
    " .facet('top_makes', wrap=3)\n",
    " .add(so.Line(), so.Agg())\n",
    ")"
   ]
  },
  {
   "cell_type": "code",
   "execution_count": null,
   "metadata": {
    "scrolled": true
   },
   "outputs": [],
   "source": [
    "(so\n",
    " .Plot(autos.assign(top_makes=limit_top_n(autos, 'make', n=5)),\n",
    "       x='year', y='highway08')\n",
    " .facet('top_makes', wrap=3)\n",
    " .add(so.Line(), so.Agg())\n",
    " .add(so.Line(alpha=.2), so.Agg(), group='top_makes', col=None)\n",
    ")"
   ]
  },
  {
   "cell_type": "markdown",
   "metadata": {},
   "source": [
    "## Time Series Exercise\n",
    "* Create a time series plot from the data"
   ]
  },
  {
   "cell_type": "code",
   "execution_count": null,
   "metadata": {},
   "outputs": [],
   "source": []
  },
  {
   "cell_type": "markdown",
   "metadata": {},
   "source": [
    "## Extra"
   ]
  },
  {
   "cell_type": "code",
   "execution_count": null,
   "metadata": {},
   "outputs": [],
   "source": [
    "# Set ticks\n",
    "(so\n",
    " .Plot(autos, x='displ', y='cylinders')\n",
    " .add(so.Dots(alpha=.01))\n",
    " .scale(x=so.Continuous().tick(at=[0,5,10]),\n",
    "        y=so.Continuous().tick(at=[0,3,6,9,12]))\n",
    ")"
   ]
  },
  {
   "cell_type": "code",
   "execution_count": null,
   "metadata": {},
   "outputs": [],
   "source": [
    "# Set limit\n",
    "(so\n",
    " .Plot(autos, x='displ', y='cylinders')\n",
    " .add(so.Dots(alpha=.01))\n",
    " .scale(y=so.Continuous().tick(at=[0,1,2,4,6,8])\n",
    "             .label(like='{x:.0f} cylinders'))\n",
    " .limit(y=(-1,9))\n",
    ")"
   ]
  },
  {
   "cell_type": "code",
   "execution_count": null,
   "metadata": {},
   "outputs": [],
   "source": [
    "# Set title\n",
    "(so\n",
    " .Plot(autos, x='displ', y='cylinders')\n",
    " .add(so.Dots(alpha=.01))\n",
    " .scale(y=so.Continuous().tick(at=[0,1,2,4,6,8])\n",
    "             .label(like='{x:.0f} cylinders'))\n",
    " .limit(y=(-1,9))\n",
    " .label(title='Cylinders per Displacement')\n",
    ")"
   ]
  },
  {
   "cell_type": "code",
   "execution_count": null,
   "metadata": {},
   "outputs": [],
   "source": [
    "# Looks like this is still WIP\n",
    "# Plot on figure\n",
    "import matplotlib.pyplot as plt\n",
    "fig, ax = plt.subplots(figsize=(8,3))\n",
    "(so\n",
    " .Plot(autos, x='displ', y='cylinders')\n",
    " .add(so.Dots(alpha=.01))\n",
    " .scale(y=so.Continuous().tick(at=[0,1,2,4,6,8])\n",
    "             .label(like='{x:.0f} cyl'))\n",
    " .limit(y=(-1,9))\n",
    " .label(title='Cylinders per Displacement')\n",
    " .on(fig)\n",
    " .plot()\n",
    ")\n"
   ]
  },
  {
   "cell_type": "code",
   "execution_count": null,
   "metadata": {},
   "outputs": [],
   "source": []
  },
  {
   "cell_type": "code",
   "execution_count": null,
   "metadata": {},
   "outputs": [],
   "source": []
  },
  {
   "cell_type": "markdown",
   "metadata": {},
   "source": [
    "## Summary\n",
    "\n",
    "New Seaborn interface\n",
    "\n",
    "* Is completely new\n",
    "* Provides consistency\n",
    "* Integrates with Pandas and Matplotlib\n",
    "* Might change in future\n"
   ]
  },
  {
   "cell_type": "code",
   "execution_count": null,
   "metadata": {},
   "outputs": [],
   "source": []
  },
  {
   "cell_type": "code",
   "execution_count": null,
   "metadata": {},
   "outputs": [],
   "source": []
  }
 ],
 "metadata": {
  "kernelspec": {
   "display_name": "Python 3",
   "language": "python",
   "name": "python3"
  },
  "language_info": {
   "codemirror_mode": {
    "name": "ipython",
    "version": 3
   },
   "file_extension": ".py",
   "mimetype": "text/x-python",
   "name": "python",
   "nbconvert_exporter": "python",
   "pygments_lexer": "ipython3",
   "version": "3.8.10"
  }
 },
 "nbformat": 4,
 "nbformat_minor": 4
}
